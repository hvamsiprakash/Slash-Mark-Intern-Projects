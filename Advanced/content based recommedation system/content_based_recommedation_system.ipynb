{
  "nbformat": 4,
  "nbformat_minor": 0,
  "metadata": {
    "colab": {
      "provenance": []
    },
    "kernelspec": {
      "name": "python3",
      "display_name": "Python 3"
    },
    "language_info": {
      "name": "python"
    }
  },
  "cells": [
    {
      "cell_type": "markdown",
      "source": [
        "### ***This code implements a content-based music recommendation system using TF-IDF (Term Frequency-Inverse Document Frequency) and cosine similarity. It loads a dataset of songs, preprocesses the text data, builds a TF-IDF matrix, calculates cosine similarities between songs, generates a similarity dictionary, defines a ContentBasedRecommender class for making recommendations, instantiates the class, and makes recommendations for two sample songs based on their similarity to other songs in the dataset.***"
      ],
      "metadata": {
        "id": "XPCeYJ2y88nB"
      }
    },
    {
      "cell_type": "code",
      "source": [
        "# Import necessary libraries\n",
        "import numpy as np\n",
        "import pandas as pd\n",
        "from sklearn.feature_extraction.text import TfidfVectorizer\n",
        "from sklearn.metrics.pairwise import cosine_similarity"
      ],
      "metadata": {
        "id": "gbMbvtlN80zr"
      },
      "execution_count": null,
      "outputs": []
    },
    {
      "cell_type": "code",
      "source": [
        "# Function to load the dataset\n",
        "def load_dataset():\n",
        "    return pd.read_csv(\"songdata.csv\")"
      ],
      "metadata": {
        "id": "TKzne8Q93GW5"
      },
      "execution_count": 23,
      "outputs": []
    },
    {
      "cell_type": "code",
      "source": [
        "# Function to preprocess text data\n",
        "def preprocess_text(data):\n",
        "    data['text'] = data['text'].str.replace(r'\\n', '')\n",
        "    return data"
      ],
      "metadata": {
        "id": "QLOitjQk3JuJ"
      },
      "execution_count": 24,
      "outputs": []
    },
    {
      "cell_type": "code",
      "source": [
        "# Function to build TF-IDF matrix\n",
        "def build_tfidf_matrix(data):\n",
        "    tfidf = TfidfVectorizer(analyzer='word', stop_words='english')\n",
        "    lyrics_matrix = tfidf.fit_transform(data['text'])\n",
        "    return tfidf, lyrics_matrix"
      ],
      "metadata": {
        "id": "_J1Hsi523Yba"
      },
      "execution_count": 25,
      "outputs": []
    },
    {
      "cell_type": "code",
      "source": [
        "# Function to calculate cosine similarities\n",
        "def calculate_cosine_similarity(matrix):\n",
        "    return cosine_similarity(matrix)"
      ],
      "metadata": {
        "id": "XlXE3YUF3duD"
      },
      "execution_count": 26,
      "outputs": []
    },
    {
      "cell_type": "code",
      "source": [
        "# Function to generate similarity dictionary\n",
        "def generate_similarity_dict(data, cosine_similarities):\n",
        "    similarities = {}\n",
        "    for i in range(len(cosine_similarities)):\n",
        "        similar_indices = cosine_similarities[i].argsort()[:-50:-1]\n",
        "        similarities[data['song'].iloc[i]] = [(cosine_similarities[i][x], data['song'][x], data['artist'][x]) for x in similar_indices][1:]\n",
        "    return similarities\n"
      ],
      "metadata": {
        "id": "9XF_MZ3x7jW5"
      },
      "execution_count": 27,
      "outputs": []
    },
    {
      "cell_type": "code",
      "source": [
        "\n",
        "# Define the ContentBasedRecommender class\n",
        "class ContentBasedRecommender:\n",
        "    def __init__(self, matrix, songs_data):\n",
        "        self.matrix_similar = matrix\n",
        "        self.songs_data = songs_data\n",
        "\n",
        "    def _print_message(self, song, recom_song):\n",
        "        rec_items = len(recom_song)\n",
        "        print(f'The {rec_items} recommended songs for \"{song}\" are:')\n",
        "        for i in range(rec_items):\n",
        "            print(f\"Number {i+1}:\")\n",
        "            print(f\"{recom_song[i][1]} by {recom_song[i][2]} with {round(recom_song[i][0], 3)} similarity score\")\n",
        "            print(\"--------------------\")\n",
        "\n",
        "    def recommend(self, recommendation):\n",
        "        song = recommendation['song']\n",
        "        number_songs = recommendation['number_songs']\n",
        "        if song not in self.matrix_similar:\n",
        "            print(f\"Sorry, {song} is not found in the dataset.\")\n",
        "            return\n",
        "        recom_song = self.matrix_similar[song][:number_songs]\n",
        "        self._print_message(song=song, recom_song=recom_song)"
      ],
      "metadata": {
        "id": "LRpzJ1pN7o4y"
      },
      "execution_count": 28,
      "outputs": []
    },
    {
      "cell_type": "code",
      "source": [
        "# Load dataset\n",
        "songs = load_dataset()"
      ],
      "metadata": {
        "id": "BLrHURRy7xX5"
      },
      "execution_count": 29,
      "outputs": []
    },
    {
      "cell_type": "code",
      "source": [
        "# Sample a subset of the dataset\n",
        "songs = songs.sample(n=5000).drop('link', axis=1).reset_index(drop=True)"
      ],
      "metadata": {
        "id": "6N2WUBma72xI"
      },
      "execution_count": 30,
      "outputs": []
    },
    {
      "cell_type": "code",
      "source": [
        "# Preprocess text data\n",
        "songs = preprocess_text(songs)\n"
      ],
      "metadata": {
        "colab": {
          "base_uri": "https://localhost:8080/"
        },
        "id": "hIMFaF4W8ILw",
        "outputId": "4c1dc6e8-ed79-4c9e-ae0b-5124a2123dc7"
      },
      "execution_count": 31,
      "outputs": [
        {
          "output_type": "stream",
          "name": "stderr",
          "text": [
            "<ipython-input-24-636efa5a99c3>:3: FutureWarning: The default value of regex will change from True to False in a future version.\n",
            "  data['text'] = data['text'].str.replace(r'\\n', '')\n"
          ]
        }
      ]
    },
    {
      "cell_type": "code",
      "source": [
        "# Build TF-IDF matrix\n",
        "tfidf, lyrics_matrix = build_tfidf_matrix(songs)\n",
        "\n",
        "# Calculate cosine similarities\n",
        "cosine_similarities = calculate_cosine_similarity(lyrics_matrix)\n",
        "\n",
        "# Generate similarity dictionary\n",
        "similarities = generate_similarity_dict(songs, cosine_similarities)\n",
        "\n",
        "# Instantiate the recommender class\n",
        "recommender = ContentBasedRecommender(similarities, songs)"
      ],
      "metadata": {
        "id": "3gvySsHI8Rsh"
      },
      "execution_count": 32,
      "outputs": []
    },
    {
      "cell_type": "code",
      "source": [
        "# Make recommendations\n",
        "recommendation = {\"song\": songs['song'].iloc[10], \"number_songs\": 4}\n",
        "recommender.recommend(recommendation)\n",
        "\n",
        "recommendation2 = {\"song\": songs['song'].iloc[120], \"number_songs\": 4}\n",
        "recommender.recommend(recommendation2)"
      ],
      "metadata": {
        "colab": {
          "base_uri": "https://localhost:8080/"
        },
        "id": "1wdwjz_F8d5Z",
        "outputId": "661f14ee-ded3-466c-c72b-2b0f9d84a4c4"
      },
      "execution_count": 33,
      "outputs": [
        {
          "output_type": "stream",
          "name": "stdout",
          "text": [
            "The 4 recommended songs for \"It's Only A Paper Moon\" are:\n",
            "Number 1:\n",
            "Hello, Little Girl by The Beatles with 0.536 similarity score\n",
            "--------------------\n",
            "Number 2:\n",
            "Till The Sun Comes Up Again by America with 0.365 similarity score\n",
            "--------------------\n",
            "Number 3:\n",
            "Heart Of A Fool by Eddie Cochran with 0.223 similarity score\n",
            "--------------------\n",
            "Number 4:\n",
            "Tell It Like It Is by Engelbert Humperdinck with 0.218 similarity score\n",
            "--------------------\n",
            "The 4 recommended songs for \"Love U Better\" are:\n",
            "Number 1:\n",
            "At This Moment by Tom Jones with 0.236 similarity score\n",
            "--------------------\n",
            "Number 2:\n",
            "Don't Think They Know by Chris Brown with 0.235 similarity score\n",
            "--------------------\n",
            "Number 3:\n",
            "Blow It In The Wind by Chris Brown with 0.23 similarity score\n",
            "--------------------\n",
            "Number 4:\n",
            "The Hurt by Cat Stevens with 0.218 similarity score\n",
            "--------------------\n"
          ]
        }
      ]
    },
    {
      "cell_type": "code",
      "source": [],
      "metadata": {
        "id": "e9HzOjIJ8wHI"
      },
      "execution_count": null,
      "outputs": []
    }
  ]
}